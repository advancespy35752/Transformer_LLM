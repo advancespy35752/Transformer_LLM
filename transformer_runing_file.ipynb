{
  "cells": [
    {
      "cell_type": "code",
      "execution_count": 1,
      "metadata": {
        "colab": {
          "base_uri": "https://localhost:8080/"
        },
        "id": "Y7Q39wwKRhI4",
        "outputId": "42bafde0-5802-4105-b851-e824828ad888"
      },
      "outputs": [
        {
          "name": "stdout",
          "output_type": "stream",
          "text": [
            "Drive already mounted at /content/drive; to attempt to forcibly remount, call drive.mount(\"/content/drive\", force_remount=True).\n"
          ]
        }
      ],
      "source": [
        "from google.colab import drive\n",
        "drive.mount('/content/drive')\n"
      ]
    },
    {
      "cell_type": "code",
      "execution_count": null,
      "metadata": {},
      "outputs": [],
      "source": [
        "import sys\n",
        "sys.path.append('/content/drive/MyDrive/LLM Project/')"
      ]
    },
    {
      "cell_type": "code",
      "execution_count": null,
      "metadata": {
        "id": "o2WqILLpUERZ"
      },
      "outputs": [],
      "source": [
        "from transformer import Transformer\n",
        "import torch\n",
        "import numpy as np|\n"
      ]
    },
    {
      "cell_type": "code",
      "execution_count": 3,
      "metadata": {
        "id": "xE-IhKhMd4g6"
      },
      "outputs": [],
      "source": [
        "english_file = '/content/drive/MyDrive/LLM Project/dataset/train.en'\n",
        "Hindi_file = '/content/drive/MyDrive/LLM Project/dataset/train.hi'\n",
        "\n",
        "# Generated this by filtering Appendix code\n",
        "\n",
        "START_TOKEN = '<START>'\n",
        "PADDING_TOKEN = '<PADDING>'\n",
        "END_TOKEN = '<END>'\n",
        "\n",
        "Hindi_vocabulary = [START_TOKEN, ' ', '!', '\"', '#', '$', '%', '&', \"'\", '(', ')', '*', '+', ',', '-', '.', '/',\n",
        "                    '0', '1', '2', '3', '4', '5', '6', '7', '8', '9', ':', '<', '=', '>', '?', 'ˌ',\n",
        "                    'ँ', 'ं', 'ः', 'अ', 'आ', 'इ', 'ई', 'उ', 'ऊ', 'ऋ', 'ए', 'ऐ', 'ऑ', 'ओ', 'औ',\n",
        "                    'क', 'ख', 'ग', 'घ', 'ङ',\n",
        "                    'च', 'छ', 'ज', 'झ', 'ञ',\n",
        "                    'ट', 'ठ', 'ड', 'ढ', 'ण',\n",
        "                    'त', 'थ', 'द', 'ध', 'न',\n",
        "                    'प', 'फ', 'ब', 'भ', 'म',\n",
        "                    'य', 'र', 'ऱ', 'ल', 'ळ', 'ऴ', 'व', 'श', 'ष', 'स', 'ह',\n",
        "                    'ा', 'ि', 'ी', 'ु', 'ू', 'ृ', 'ॄ', 'ॅ', 'ॆ', 'े', 'ै', 'ॉ', 'ो', 'ौ', '्',\n",
        "                    'ॐ', '॒', '॓', '॔', '।', '॥',\n",
        "                    '०', '१', '२', '३', '४', '५', '६', '७', '८', '९', PADDING_TOKEN, END_TOKEN]\n",
        "\n",
        "\n",
        "english_vocabulary = [START_TOKEN, ' ', '!', '\"', '#', '$', '%', '&', \"'\", '(', ')', '*', '+', ',', '-', '.', '/',\n",
        "                        '0', '1', '2', '3', '4', '5', '6', '7', '8', '9',\n",
        "                        ':', '<', '=', '>', '?', '@',\n",
        "                        '[', '\\\\', ']', '^', '_', '`',\n",
        "                        'a', 'b', 'c', 'd', 'e', 'f', 'g', 'h', 'i', 'j', 'k', 'l',\n",
        "                        'm', 'n', 'o', 'p', 'q', 'r', 's', 't', 'u', 'v', 'w', 'x',\n",
        "                        'y', 'z',\n",
        "                        '{', '|', '}', '~', PADDING_TOKEN, END_TOKEN]"
      ]
    },
    {
      "cell_type": "code",
      "execution_count": 4,
      "metadata": {
        "id": "8L6oamuXgHfv"
      },
      "outputs": [],
      "source": [
        "index_to_Hindi = {k:v for k,v in enumerate(Hindi_vocabulary)}\n",
        "Hindi_to_index = {v:k for k,v in enumerate(Hindi_vocabulary)}\n",
        "index_to_english = {k:v for k,v in enumerate(english_vocabulary)}\n",
        "english_to_index = {v:k for k,v in enumerate(english_vocabulary)}"
      ]
    },
    {
      "cell_type": "code",
      "execution_count": 54,
      "metadata": {
        "id": "9oaHXEcQgKzm"
      },
      "outputs": [],
      "source": [
        "with open(english_file, 'r') as file:\n",
        "    english_sentences = file.readlines()\n",
        "with open(Hindi_file, 'r', encoding='utf-8') as file:\n",
        "    Hindi_sentences = file.readlines()\n",
        "\n",
        "# Limit Number of sentences\n",
        "TOTAL_SENTENCES = 2000000\n",
        "english_sentences = english_sentences[:TOTAL_SENTENCES]\n",
        "Hindi_sentences = Hindi_sentences[:TOTAL_SENTENCES]\n",
        "english_sentences = [sentence.rstrip('\\n').lower() for sentence in english_sentences]\n",
        "Hindi_sentences = [sentence.rstrip('\\n') for sentence in Hindi_sentences]"
      ]
    },
    {
      "cell_type": "code",
      "execution_count": 55,
      "metadata": {
        "colab": {
          "base_uri": "https://localhost:8080/"
        },
        "id": "LTP-9YN4gMqb",
        "outputId": "3a062a46-767f-46ad-c108-c5801d7e945f"
      },
      "outputs": [
        {
          "data": {
            "text/plain": [
              "[\"however, paes, who was partnering australia's paul hanley, could only go as far as the quarterfinals where they lost to bhupathi and knowles\",\n",
              " 'whosoever desires the reward of the world, with allah is the reward of the world and of the everlasting life. allah is the hearer, the seer.',\n",
              " 'the value of insects in the biosphere is enormous because they outnumber all other living groups in measure of species richness.',\n",
              " 'mithali to anchor indian team against australia in odis',\n",
              " 'after the assent of the honble president on 8thseptember, 2016, the 101thconstitutional amendment act, 2016 came into existence',\n",
              " 'the court has fixed a hearing for february 12',\n",
              " 'please select the position where the track should be split.',\n",
              " 'as per police, armys 22rr, special operation group (sog) of police and the central reserve police force (crpf) cordoned the village and launched search operation in the area.',\n",
              " 'jharkhand chief minister hemant soren',\n",
              " 'arvind kumar, sho of the sector 55/56 police station, said a case has been registered under section 376-d (gang rape) of the indian penal code.']"
            ]
          },
          "execution_count": 55,
          "metadata": {},
          "output_type": "execute_result"
        }
      ],
      "source": [
        "english_sentences[:10]"
      ]
    },
    {
      "cell_type": "code",
      "execution_count": 56,
      "metadata": {
        "colab": {
          "base_uri": "https://localhost:8080/"
        },
        "id": "-0nEH96EgO2p",
        "outputId": "2b4766d8-ba3c-4c75-8ef7-61da2414ef83"
      },
      "outputs": [
        {
          "data": {
            "text/plain": [
              "['आस्ट्रेलिया के पाल हेनली के साथ जोड़ी बनाने वाले पेस मियामी में क्वार्टरफाइनल तक ही पहुंच सके क्योंकि इस दौर में उन्हें भूपति और नोल्स ने हराया था।',\n",
              " 'और जो शख्स (अपने आमाल का) बदला दुनिया ही में चाहता है तो ख़ुदा के पास दुनिया व आख़िरत दोनों का अज्र मौजूद है और ख़ुदा तो हर शख्स की सुनता और सबको देखता है',\n",
              " 'जैव-मंडल में कीड़ों का मूल्य बहुत है, क्योंकि प्रजातियों की समृद्धि के मामले में उनकी संख्या अन्य जीव समूहों से ज़्यादा है।',\n",
              " 'आस्ट्रेलिया के खिलाफ वनडे टीम की कमान मिताली को',\n",
              " '8 सितम्\\u200dबर, 2016 को माननीय राष्\\u200dट्रपति की स्\\u200dवीकृति मिलने के बाद 101वां संविधान संशोधन अधिनियम, 2016 अस्तित्\\u200dव में आया',\n",
              " 'अदालत ने इस मामले में आगे की सुनवाई के लिए एक फरवरी की तारीख़ तय की',\n",
              " 'जहाँ पर ट्रैक को विभाजित किया जाना है, कृपया वह स्थान चुनें.',\n",
              " 'इसके तुरंत बाद सेना की 22 राष्ट्रीय राइफल्स (आरआर), सीआरपीएफ और पुलिस के स्पेशल ऑपरेशन ग्रुप (एसओजी) के जवानों द्वारा इलाके की घेराबंदी कर तलाशी अभियान चलाया।',\n",
              " 'झारखंड के मुख्यमंत्री हेमंत सोरेन (फोटोः पीटीआई)',\n",
              " 'सेक्टर 55/56 के एसएचओ अरविंद कुमार ने बताया कि इस मामले में आईपीसी की धारा 376-डी (गैंगरेप) के तहत मामला दर्ज कर लिया गया है।']"
            ]
          },
          "execution_count": 56,
          "metadata": {},
          "output_type": "execute_result"
        }
      ],
      "source": [
        "Hindi_sentences[:10]"
      ]
    },
    {
      "cell_type": "code",
      "execution_count": 57,
      "metadata": {
        "colab": {
          "base_uri": "https://localhost:8080/"
        },
        "id": "OVSPzOgugcfp",
        "outputId": "b2792fd0-2c59-40ea-a915-0db15104476b"
      },
      "outputs": [
        {
          "name": "stdout",
          "output_type": "stream",
          "text": [
            "97th percentile length Hindi: 259.0\n",
            "97th percentile length English: 268.0\n"
          ]
        }
      ],
      "source": [
        "import numpy as np\n",
        "PERCENTILE = 97\n",
        "print( f\"{PERCENTILE}th percentile length Hindi: {np.percentile([len(x) for x in Hindi_sentences], PERCENTILE)}\" )\n",
        "print( f\"{PERCENTILE}th percentile length English: {np.percentile([len(x) for x in english_sentences], PERCENTILE)}\" )\n"
      ]
    },
    {
      "cell_type": "code",
      "execution_count": 58,
      "metadata": {
        "colab": {
          "base_uri": "https://localhost:8080/"
        },
        "id": "_NFWHDUJgfno",
        "outputId": "6b840d0a-0012-42df-f171-4d346620a798"
      },
      "outputs": [
        {
          "name": "stdout",
          "output_type": "stream",
          "text": [
            "Number of sentences: 2000000\n",
            "Number of valid sentences: 1278881\n"
          ]
        }
      ],
      "source": [
        "max_sequence_length = 270\n",
        "\n",
        "def is_valid_tokens(sentence, vocab):\n",
        "    for token in list(set(sentence)):\n",
        "        if token not in vocab:\n",
        "            return False\n",
        "    return True\n",
        "\n",
        "def is_valid_length(sentence, max_sequence_length):\n",
        "    return len(list(sentence)) < (max_sequence_length - 1)\n",
        "\n",
        "valid_sentence_indicies = []\n",
        "for index in range(len(Hindi_sentences)):\n",
        "    Hindi_sentence, english_sentence = Hindi_sentences[index], english_sentences[index]\n",
        "    if is_valid_length(Hindi_sentence, max_sequence_length) \\\n",
        "      and is_valid_length(english_sentence, max_sequence_length) \\\n",
        "      and is_valid_tokens(Hindi_sentence, Hindi_vocabulary):\n",
        "        valid_sentence_indicies.append(index)\n",
        "\n",
        "print(f\"Number of sentences: {len(Hindi_sentences)}\")\n",
        "print(f\"Number of valid sentences: {len(valid_sentence_indicies)}\")"
      ]
    },
    {
      "cell_type": "code",
      "execution_count": 59,
      "metadata": {
        "id": "y99fGNHVgkJu"
      },
      "outputs": [],
      "source": [
        "Hindi_sentences = [Hindi_sentences[i] for i in valid_sentence_indicies]\n",
        "english_sentences = [english_sentences[i] for i in valid_sentence_indicies]"
      ]
    },
    {
      "cell_type": "code",
      "execution_count": 60,
      "metadata": {
        "colab": {
          "base_uri": "https://localhost:8080/"
        },
        "id": "ImoSNwkTgnNV",
        "outputId": "b5b8d026-f3e1-44ba-9a9a-3dde63022c82"
      },
      "outputs": [
        {
          "data": {
            "text/plain": [
              "['आस्ट्रेलिया के खिलाफ वनडे टीम की कमान मिताली को',\n",
              " 'जहाँ पर ट्रैक को विभाजित किया जाना है, कृपया वह स्थान चुनें.',\n",
              " 'इसके तुरंत बाद सेना की 22 राष्ट्रीय राइफल्स (आरआर), सीआरपीएफ और पुलिस के स्पेशल ऑपरेशन ग्रुप (एसओजी) के जवानों द्वारा इलाके की घेराबंदी कर तलाशी अभियान चलाया।']"
            ]
          },
          "execution_count": 60,
          "metadata": {},
          "output_type": "execute_result"
        }
      ],
      "source": [
        "Hindi_sentences[:3]"
      ]
    },
    {
      "cell_type": "code",
      "execution_count": 61,
      "metadata": {
        "id": "jb4H94hjgpg2"
      },
      "outputs": [],
      "source": [
        "import torch\n",
        "\n",
        "d_model = 512\n",
        "batch_size = 30\n",
        "ffn_hidden = 2048\n",
        "num_heads = 8\n",
        "drop_prob = 0.1\n",
        "num_layers = 1\n",
        "max_sequence_length = 270\n",
        "hi_vocab_size = len(Hindi_vocabulary)\n",
        "\n",
        "transformer = Transformer(d_model,\n",
        "                          ffn_hidden,\n",
        "                          num_heads,\n",
        "                          drop_prob,\n",
        "                          num_layers,\n",
        "                          max_sequence_length,\n",
        "                          hi_vocab_size,\n",
        "                          english_to_index,\n",
        "                          Hindi_to_index,\n",
        "                          START_TOKEN,\n",
        "                          END_TOKEN,\n",
        "                          PADDING_TOKEN)"
      ]
    },
    {
      "cell_type": "code",
      "execution_count": 62,
      "metadata": {
        "colab": {
          "base_uri": "https://localhost:8080/"
        },
        "id": "IBKCWToOgrvG",
        "outputId": "24bea675-66ab-4502-855e-06e60d99d65b"
      },
      "outputs": [
        {
          "data": {
            "text/plain": [
              "Transformer(\n",
              "  (encoder): Encoder(\n",
              "    (sentence_embedding): SentenceEmbedding(\n",
              "      (embedding): Embedding(71, 512)\n",
              "      (position_encoder): PositionalEncoding()\n",
              "      (dropout): Dropout(p=0.1, inplace=False)\n",
              "    )\n",
              "    (layers): SequentialEncoder(\n",
              "      (0): EncoderLayer(\n",
              "        (attention): MultiHeadAttention(\n",
              "          (qkv_layer): Linear(in_features=512, out_features=1536, bias=True)\n",
              "          (linear_layer): Linear(in_features=512, out_features=512, bias=True)\n",
              "        )\n",
              "        (norm1): LayerNormalization()\n",
              "        (dropout1): Dropout(p=0.1, inplace=False)\n",
              "        (ffn): PositionwiseFeedForward(\n",
              "          (linear1): Linear(in_features=512, out_features=2048, bias=True)\n",
              "          (linear2): Linear(in_features=2048, out_features=512, bias=True)\n",
              "          (relu): ReLU()\n",
              "          (dropout): Dropout(p=0.1, inplace=False)\n",
              "        )\n",
              "        (norm2): LayerNormalization()\n",
              "        (dropout2): Dropout(p=0.1, inplace=False)\n",
              "      )\n",
              "    )\n",
              "  )\n",
              "  (decoder): Decoder(\n",
              "    (sentence_embedding): SentenceEmbedding(\n",
              "      (embedding): Embedding(117, 512)\n",
              "      (position_encoder): PositionalEncoding()\n",
              "      (dropout): Dropout(p=0.1, inplace=False)\n",
              "    )\n",
              "    (layers): SequentialDecoder(\n",
              "      (0): DecoderLayer(\n",
              "        (self_attention): MultiHeadAttention(\n",
              "          (qkv_layer): Linear(in_features=512, out_features=1536, bias=True)\n",
              "          (linear_layer): Linear(in_features=512, out_features=512, bias=True)\n",
              "        )\n",
              "        (layer_norm1): LayerNormalization()\n",
              "        (dropout1): Dropout(p=0.1, inplace=False)\n",
              "        (encoder_decoder_attention): MultiHeadCrossAttention(\n",
              "          (kv_layer): Linear(in_features=512, out_features=1024, bias=True)\n",
              "          (q_layer): Linear(in_features=512, out_features=512, bias=True)\n",
              "          (linear_layer): Linear(in_features=512, out_features=512, bias=True)\n",
              "        )\n",
              "        (layer_norm2): LayerNormalization()\n",
              "        (dropout2): Dropout(p=0.1, inplace=False)\n",
              "        (ffn): PositionwiseFeedForward(\n",
              "          (linear1): Linear(in_features=512, out_features=2048, bias=True)\n",
              "          (linear2): Linear(in_features=2048, out_features=512, bias=True)\n",
              "          (relu): ReLU()\n",
              "          (dropout): Dropout(p=0.1, inplace=False)\n",
              "        )\n",
              "        (layer_norm3): LayerNormalization()\n",
              "        (dropout3): Dropout(p=0.1, inplace=False)\n",
              "      )\n",
              "    )\n",
              "  )\n",
              "  (linear): Linear(in_features=512, out_features=117, bias=True)\n",
              ")"
            ]
          },
          "execution_count": 62,
          "metadata": {},
          "output_type": "execute_result"
        }
      ],
      "source": [
        "transformer"
      ]
    },
    {
      "cell_type": "code",
      "execution_count": 63,
      "metadata": {
        "id": "1dcWAN5kgukI"
      },
      "outputs": [],
      "source": [
        "from torch.utils.data import Dataset, DataLoader\n",
        "\n",
        "class TextDataset(Dataset):\n",
        "\n",
        "    def __init__(self, english_sentences, Hindi_sentences):\n",
        "        self.english_sentences = english_sentences\n",
        "        self.Hindi_sentences = Hindi_sentences\n",
        "\n",
        "    def __len__(self):\n",
        "        return len(self.english_sentences)\n",
        "\n",
        "    def __getitem__(self, idx):\n",
        "        return self.english_sentences[idx], self.Hindi_sentences[idx]"
      ]
    },
    {
      "cell_type": "code",
      "execution_count": 64,
      "metadata": {
        "id": "tgBu9to7gxqo"
      },
      "outputs": [],
      "source": [
        "dataset = TextDataset(english_sentences, Hindi_sentences)"
      ]
    },
    {
      "cell_type": "code",
      "execution_count": 65,
      "metadata": {
        "colab": {
          "base_uri": "https://localhost:8080/"
        },
        "id": "4iKiol_Og0Aw",
        "outputId": "58754889-66b6-4731-cc2e-878c4fe0bac3"
      },
      "outputs": [
        {
          "data": {
            "text/plain": [
              "1278881"
            ]
          },
          "execution_count": 65,
          "metadata": {},
          "output_type": "execute_result"
        }
      ],
      "source": [
        "len(dataset)"
      ]
    },
    {
      "cell_type": "code",
      "execution_count": 66,
      "metadata": {
        "id": "fACG1sw5g2ST"
      },
      "outputs": [],
      "source": [
        "train_loader = DataLoader(dataset, batch_size)\n",
        "iterator = iter(train_loader)"
      ]
    },
    {
      "cell_type": "code",
      "execution_count": 67,
      "metadata": {
        "colab": {
          "base_uri": "https://localhost:8080/"
        },
        "id": "uoaxaiQbg5Tr",
        "outputId": "1a2fe12d-af5f-4216-89b1-3821053138b8"
      },
      "outputs": [
        {
          "name": "stdout",
          "output_type": "stream",
          "text": [
            "[('mithali to anchor indian team against australia in odis', 'please select the position where the track should be split.', 'as per police, armys 22rr, special operation group (sog) of police and the central reserve police force (crpf) cordoned the village and launched search operation in the area.', 'jharkhand chief minister hemant soren', 'arvind kumar, sho of the sector 55/56 police station, said a case has been registered under section 376-d (gang rape) of the indian penal code.', \"briefing media in new delhi today, party's state-in-charge, anil jain said, after the meeting the party will meet the governor to stake claim for government formation in the state.\", '\"jesus responded, as he taught in the temple, \"\"how is it that the scribes say that the christ is the son of david?\"', 'senior leaders of all major parties held electioneering in favour of their candidates.', 'meanwhile, three people came there on a bike.', 'he does this because he is angry at the alleged desecration of the indian flag', 'attempts to contact randhawa on his mobile over the past one week have remained futile.', 'share videos', 'the shias venerate him as a member of the family of imams, while the sunni simply see him as a person of great sanctity.', 'hence, we must make sure we ourselves dont become careless, not allow anyone else do so', 'joseph dreamed a dream, and he told it to his brothers, and they hated him all the more.', 'they praise night and day, without ever tiring.', 'some intercity trains like manmad-mumbai express, gujarat express, saurashtra express, bandra-terminus surat intercity express and mumbai central-ahmedabad shatabdi express have been cancelled, officials of the central and western railways said.', 'both are safe and healthy.', 'new delhi: noted scientist sivan k was appointed chairman of the indian space research organisation on wednesday.', 'they raised slogans against the government and the administration.', 'im fine by the grace of god.', 'but its still a long way to go.', 'hockey: india to face belgium in test series', 'himandri and bindu rani, both friends, were from karnals salwan village.', 'the fir exhibit ka-19', 'will it be in a private or government sector?', 'this caused panic among consumers.', 'this solar eclipse will also be visible in india.', 'the tata motors rights issue is perhaps the first one which will have a dvr portion', 'the commission has concluded its findings and has submitted its 17-page report to the sindh home department, as per sources.'), ('आस्ट्रेलिया के खिलाफ वनडे टीम की कमान मिताली को', 'जहाँ पर ट्रैक को विभाजित किया जाना है, कृपया वह स्थान चुनें.', 'इसके तुरंत बाद सेना की 22 राष्ट्रीय राइफल्स (आरआर), सीआरपीएफ और पुलिस के स्पेशल ऑपरेशन ग्रुप (एसओजी) के जवानों द्वारा इलाके की घेराबंदी कर तलाशी अभियान चलाया।', 'झारखंड के मुख्यमंत्री हेमंत सोरेन (फोटोः पीटीआई)', 'सेक्टर 55/56 के एसएचओ अरविंद कुमार ने बताया कि इस मामले में आईपीसी की धारा 376-डी (गैंगरेप) के तहत मामला दर्ज कर लिया गया है।', 'आज नई दिल्ली में मीडिया से बातचीत में पार्टी के राज्य प्रभारी अनिल जैन ने बताया कि बैठक के बाद पार्टी, सरकार के गठन का दावा पेश करने के लिए राज्यपाल से मिलेगी।', 'फिर यीशु ने मन्दिर में उपदेश करते हुए यह कहा, कि शास्त्री क्योंकर कहते हैं, कि मसीह दाऊद का पुत्रा है?', 'सभी मुख्य पार्टियों के वरिष्ठ नेताओं ने अपने-अपने उम्मीदवारों के पक्ष में चुनाव प्रचार किया।', 'इसी बीच एक बाइक पर तीन लोग आते दिखाई दिए।', 'वह ऐसा इसलिए करता है, क्योंकि वह भारतीय तिरंगे के कथित अनादर से क्रोधित है', 'रंधावा से एक हफ्ते से उनके मोबाईल पर सम्पर्क करने की कोशिश की गयी, लेकिन बात नहीं हो पायी।', 'वीडियो क्लिप शेयर किए', 'शियास उन्हें इमाम के परिवार के सदस्य के रूप में पूजा करते हैं, जबकि सुन्नी उन्हें महान पवित्रता के व्यक्ति के रूप में देखते हैं।', 'इसलिए, न खुद कोई लापरवाही करनी है और न ही किसी और को लापरवाही करने देना है', 'और यूसुफ ने एक स्वप्न देखा, और अपने भाइयों से उसका वर्णन किया : तब वे उस से और भी द्वेष करने लगे।', 'रात और दिन उसकी तस्बीह किया करते हैं (और) कभी काहिली नहीं करते', 'मध्य रेलवे एवं पश्चिम रेलवे के अधिकारियों के अनुसार मनमाड-मुंबई एक्सप्रेस, गुजरात एक्सप्रेस, सौराष्ट्र एक्सप्रेस, बांद्रा टर्मिनस सूरत इंटरसिटी एक्सप्रेस और मुंबई सेंट्रल-अहमदाबाद शताब्दी एक्सप्रेस जैसी कुछ इंटरसिटी ट्रेनों को रद्द कर दिया गया है।', 'सभी सुरक्षित और खतरे से बाहर हैं।', 'जाने-माने वैज्ञानिक सिवान के. को भारतीय अंतरिक्ष अनुसंधान संगठन (इसरो) का अध्यक्ष नियुक्त किया गया है।', 'उन्होंने प्रशासन और सरकार के खिलाफ नारेबाजी की।', 'ईश्वर की कृपा से मैं बिल्कुल ठीक हूं.', 'लेकिन वापस जाने को अभी लंबा अंतराल है।', 'हॉकी टेस्ट : भारत ने अर्जेटीना को बराबरी पर रोका', 'दोनों करनाल के सलवान गांव की रहने वालीं थी।', 'एफआईआर प्रदर्शनी के -19', 'चाहे यह सरकारी क्षेत्र में हो या निजी क्षेत्र में।', 'इस कारण उपभोक्ताओं के बीच हंगामा मच गया था।', 'यह सूर्य ग्रहण भारत में भी दिखेगा.', 'टाटा मोटर्स का राइट्स इश्यू शायद पहला ऐसा निर्गम होगा जिसमें डिफरेन्शियल वोटिंग राइट्स', 'सूत्रों के अनुसार, जांच आयोग ने 17 पेज की अपनी रिपोर्ट सिंध प्रांत के गृह विभाग के पास भेज दी है।')]\n",
            "[('he said no such incident had taken place in their school.', 'he added five persons have been arrested in this connection.', 'he always thought he was not conventionally good-looking and felt that he would never look as good as rajesh khanna.', 'the memorandum stated that out of the 1,241 buildings maintained by the cpwd, led bulbs have been installed in 223 and the work is in progress in 230 buildings.', 'the bench rejected the petition.', 'i had never been away from the game for so long.', 'i must go.', 'artists are the moral conscience of society.', 'people are sad and angry.', \"in may 2008, cook asked season 2 american idol alum and tv guide network correspondent kimberly caldwell for a dinner date while on the red carpet before the show's seventh-season finale.\", 'following the release of the film santoshi maa has been worshipped as a goddess, particularly by women in northern india.', 'the bmc also accused sonu sood of ignoring the notice in relation to the matter.', 'the price increase is not required currently as cost of milk production is also under control in view of stable feed prices and lower energy and transportation costs, he said.', 'but it was not as i had thought.', 'everything for germany.', 'why do they do that? she asked.', 'i returned from the convention determined to take my stand for my faith in school.', 'however, he didnt rule out the possibility.', 'older ones who have let the truth mold them into honest people set a good example for young ones in this dishonest world. in myanmar lives such a young sister.', 'three persons were arrested by the police.', 'the police have registered a case in connection with the incident, he added.', 'who use our product are not necessarily', \"'even with this background the poems and prose songs in free verse were not taken as a hoax in literary circles.\", 'we have seen good growth.', 'the report was submitted in a sealed cover before a bench comprising chief justice d b bhosale and justice suneet kumar.', '\"\"\"it took three years for him to set up a charitable organisation which became popular as \"\"\"\" vanrai\"\"\"\".\"\"\"', 'ccd may be caused by mites or associated diseases or unknown pathogens.', \"they've stopped.\", 'save it and take a printout for future use.', 'low-yield nuclear weapons are also devastating but have a strength of less than 20 kilotons.'), ('उन्होंने कहा कि स्कूल में दुष्कर्म जैसी कोई घटना नहीं हुई।', 'पुलिस ने इस मामले में 5 और गिरफ्तारियां की हैं।', 'उन्हें हमेशा लगता था कि वो राजेश खन्ना की तरह अच्छे नहीं दिख सकते।', 'ज्ञापन में कहा गया है कि सीपीडब्ल्यूडी की देखरेख वाली 1,241 इमारतों में से 223 इमारतों में एलईडी बल्ब लगाए गए हैं शेष 230 इमारतों में काम चल रहा है।', 'एकलपीठ ने याचिका खारिज कर दी।', 'मैं कभी इतने लंबे समय तक खेल से दूर नहीं रहा।', 'मुझे जाना चाहिए.', 'कलाकार किसी समाज का नैतिक विवेक होते हैं.', 'इससे लोग दुखी व हताश है।', 'मई 2008 में, कुक ने 2 अमेरिकन आइडल छात्र किम्बर्ली काल्डवेल से पूछा जब उनका शो के सातवें सीजन समापन से पहले स्वागत हो रहा था।', 'फिल्म की रिलीज के बाद संतोषी मां को देवी के रूप में पूजा जाता है, विशेष रूप से उत्तरी भारत में महिलाओं द्वारा पूजा अर्चना करबाए जाते है ।', 'बीएमसी ने सोनू सूद पर नोटिस को नजरअंदाज करने का भी आरोप लगाया है।', \"' उन्होंने कहा कि मौजूदा समय में मूल्य वृद्धि की जरूरत नहीं है क्योंकि स्थिर चारा कीमत एवं कम ऊर्जा तथा परिवहन लागत के मद्देनजर दूध उत्पादन लागत भी नियंत्रण में है।\", 'लेकिन ये क्या जैसा कुछ सोचा था वैसा हुआ नहीं।', 'जर्मनी के लिए सब कुछ..', 'उन्होंने पूछा कि ऐसा क्यों कर रहे हैं।', 'यह देखकर स्कूल में मेरे टीचर और बाकी लोग खुश नहीं हुए ।', 'हालांकि उन्होंने संभावनाओं को खारिज भी नहीं किया।', 'म्यानमार में, किस प्रकार एक युवा बहन की ईमानदारी के कारण अच्छी गवाही दी गई?', 'जबकि तीन को पुलिस टीम ने गिरफ्तार कर लिया।', 'उन्होंने कहा कि पुलिस ने घटना का मामला दर्ज कर लिया है।', 'जो हमारे उत्पाद का इस्तेमाल जरूरी नहीं हैं', 'िफर भी, अतुकान्त और मुक्त छन्द की कविताओं और गद्य गीतों के इस संग्रह को साहित्य में एक होक्स के रूप में नहीं लिया गया।', 'हमें अच्छी वृद्धि नजर आ रही है।', 'यह रिपोर्ट चीफ जस्टिस डी. बी. भोसले और जस्टिस सुनीत कुमार की खंडपीठ के समक्ष सीलबंद लिफाफे में प्रस्तुत की जानी है।', 'उन्हें जनसेवा के लिए एक चेरिटेबल संगठन की स्थापना में तीन वर्ष का समय लगा।', 'सीसीडी के कारण माइट या संबंधित रोग या अज्ञात रोगजनक हो सकते हैं।', 'वे रुक गये है.', 'इसका प्रिंटआउट निकालकर भविष्य के लिए सुरक्षित रख लें.', 'छोटे परमाणु हथियार करीब 20 किलो टन से कम क्षमता वाले होते हैं. हालांकि ये तुलनात्मक रूप से कम शक्तिशाली होते हैं लेकिन इनसे भी काफी विनाश हो सकता है.')]\n",
            "[('above all, it would need to imbibe the advice given by maulana azad in october 1947:', 'talking to reporters here on his return from a spiritual tour, he also said the state government should put additional pressure on the central government to set up the cauvery management board.', 'but they never got going.', 'uk to accept 20,000 refugees from syria', '\"\"\"introducing the resolution, serbian foreign minister vuk jeremic asserted that serbia \"\"\"\"does not and shall not recognize the unilateral declaration of independence of kosovo.\"\"\"', '\"\"\"there is no case of coronavirus so far.\"', 'all of them were from uttar pradesh.', 'for example, customers will not be able to know their asset value as it is not an equity investment and no net asset value will be declared', 'mr prime minister, at that time, you had not taken his (singhs) name out of respect.', 'there have been one tie while 11 matches have ended in no result.', 'she will also be seen in fighter opposite south indian superstar vijay devarakonda.', 'the fruit is rich in vitamin k, vitamin c, fibre and potassium.', 'european stocks were also trading lower in early trade.', 'established in lahore in 1910, the college building still stands there in the name of government dyal singh college.', 'circumcise therefore the foreskin of your heart, and be no more stiff-necked.', 'about 50 people were injured.', '\"\\', chhillar responded: \"\"a mother should get that highest honour, and not just salary but also lots of love and respect.\"', 'alia bhatt , sidharth malhotra , fawad khan starrer film kapoor & sons first song kar gai chull has finally released.', 'by contrast, the hiring and dismissal of principals and teaching personnel has up to now been the exclusive prerogative of supervisory administrators, wholly removed from the parent and local groups.', 'no action has been taken in this regard.', \"they are also the world's two most populous countries.\", 'all this work needs to be completed in next one year.', 'a family case is going on in the court currently.', 'one had moved to the united states.', 'mumbai: the news of bollywood actor sushant singh rajputs death has jolted the entire nation.', 'nine people are currently in hospital, including one person in icu.', 'this makes the skin soft and supple.', \"''we are confident that the impasse will be solved through continuous talks,'' he said\", 'its a religion over there.', \"jdu wants tejaswi's resignation but lalu won't budge on it.\"), ('सर्वोपरि, इसमें मौलाना आजाद द्वारा अक्तूबर, 1947 में दी गई इस सलाह को आत्मसात करने की आवश्यकता होगीः', 'आध्यात्मिक यात्रा से वापस लौटने पर उन्होंने पत्रकारों से कहा कि राज्य सरकार को कावेरी प्रबंधन बोर्ड गठित करने के लिए केंद्र सरकार पर अतिरिक्त दबाव डालना चाहिए।', 'हालांकि वे कभी गए नहीं।', '15,000 सीरियाई लोगों को शरण देगा ब्रिटेन', 'सर्बिया के विदेश मंत्री वुक येरेमिच ने संयुक्त राष्ट्र महासभा से कहा है कि यूरोप समर्थित वार्ता की तैयारी के बावजूद सर्बियाई सरकार ने कोसोवो की एकतरफा आजादी को न स्वीकार किया है और न करेगा.', 'अभी तो यहां कोरोना वायरस का कोई केस नहीं आया है।', 'यह सभी लोग उत्तरप्रदेश के लोग थे।', 'उदाहरण के लिए, ग्राहक अपने परिसंपत्ति मूल्य नहीं जान पाएंगे क्योंकि यह इक्विटी निवेश नहीं है और इसके शुध्द परिसंपत्ति मूल्य की घोषणा नहीं की जाएगी।', 'प्रधानमंत्री महोदय, आपने तो तब इज्जत से उनका नाम नहीं लिया था।', 'एक मैच टाई रहा है जबकि 11 मैचों का कोई परिणाम नहीं निकला है।', 'इस फिल्म में वह साउथ सुपरस्टार विजय देवरकोंडा के अपोजिट नजर आएंगी।', 'इस फूल में विटामिल सी , कैल्शियम, वसा, फाइबर के साथ आयरन की प्रचुर मात्रा मिलती है।', 'वहीं यूरोपियन शेयरों में भी शुरुआती कारोबार में आंशिक गिरावट देखी जा रही है', '1910 में लाहौर में स्थापित कॉलेज का नाम आज भी गवर्नमेंट दयाल सिंह कॉलेज है।', 'इसलिये अपने अपने हृदय का खतना करो, और आगे को हठीले न रहो।', 'जबकि करीब 50 लोग बुरी तरह घायल हो गए थे।', '\"उन्होंने कहा था, \"\"एक मां को सबसे ज्यादा आदर, और न केवल वेतन, बल्कि बहुत सारा प्यार और सम्मान दिया जाना चाहिए.\"', 'शाहिद कपूर और आलिया भट्ट की अपकमिंग फिल्म शानदार का पहला पोस्टर रिलीज हो गया है।', 'इसके विपरीत, प्राध्यापकों और शिक्षकों को नियुक्त और निरस्त करने के अधिकार पर्यवेक्षी प्रशासकों की निजी संपत्ति की तरह हैं, अभिभावकों और सामुदायिक समूहों की पहुंच से बाहर।', 'इस पर कार्यकर्ताओं पर कोई कार्रवाई नहीं की गई है।', 'दोनों दुनिया में सबसे ज्यादा आबादी वाले मुल्क हैं.', 'यह काम एक साल में पूरा होगा।', 'तलाक का मामला फिलहाल फैमिली कोर्ट में चल रहा है।', 'एक अमेरिका चला गया।', 'मुंबई. बॉलीवुड एक्टर सुशांत सिंह राजपूत ने इस दुनिया को अलविदा कह दिया है।', 'वर्तमान में आईसीयू में एक व्यक्ति सहित नौ लोग अस्पताल में भर्ती हैं।', 'इससे स्किन सॉफ्ट, ग्लोइंग बनती है।', 'हमें यकीन है कि मसला बातचीत से सुलझ जाएगा।', 'धार्मिक वहीं है।', 'जेडीयू तेजस्वी का इस्तीफा चाहती लेकिन लालू इसके लिए तैयार नहीं हैं।')]\n",
            "[('after about ten minutes, the agitated opposition members returned near their seat but did not occupy it', 'i acquired a firm faith in god, i tasted of the nectar of the communion with the brahma in place of worldly pleasures.', \"the second one was about a woman complaining because three minivans with six bearded men pulled up and started interrogating her on the spot for talking to a man who wasn't related to her.\", 'govt repeals articles 370. rajya sabha passes jammu and kashmir reorganisation bill', 'no one can create an atmosphere.', 'this will change the scenario.', 'later, a compromise had been worked out.', 'in our case pakistan has made it as an instrument of its state policy, he said.', 'zero is an even number.', 'what will happen if the e-challan is not submitted?', 'but if we make a mistake there will be a wait of five years before we can rectify it.', 'regular captain virat kohli and pace spearhead jasprit bumrah are also back in the squad for the entire australia series after a break and even vice-captain rohit sharma will not be resting.', 'jay carney, white house press secretary', \"dilip kumar's bungalow is located in the upscale pali hill area of bandra.\", 'this will ensure better returns for the farmer as well as industry.', 'asked what is that mindset, the ndb head said, the borrowers mindset is please understand our challenges and lend accordingly.', 'west bengal chief minister mamata banerjee, in an appeal to the public, asked them to maintain peace in the state.', 'message from abroad', 'walk this way', 'the film is in production stages currently.', 'the accused was brought here by the punjab police from nabha jail.', 'simmons was named player of the match and pollard was named player of the series.', 'bollywood actor ranveer singh is known for his flamboyant nature and unique style.', 'two rebel congress mlas, alpesh thakor and his close aide dhavalsinh jhala, cross-voted for the bjp.', 'reproductive organs in male and femel forms of life.', 'during training, a stipend of rs 14,600 per month will be paid.', 'seamer mohammed shami on wednesday became the fastest indian to claim 100 wickets in one-day internationals, reaching the mark in the opening match against new zealand here.', 'how do we demonstrate our support for the arrangements made by jehovahs organization?', '\"general naravane went to kumari ghar in kathmandu durbar square and worshipped living goddess \"\"kumari\"\" and later toured around basantapur durbar square along with his spouse veena naravane.\"', 'so why is this controversial?'), ('लगभग दस मिनट के बाद आक्रोशित विपक्षी सदस्य अपने स्थानोंपर वापस बैठने की बजाय बहिर्गमन कर गये1ये सदस्य मंत्री का जवाब पूरा होने तक सदन में नहीं आये', 'मुझे ईश्वर में पक्की निष्ठा हो गयीं सांसारिक सुखों की बनिस्बत मैं ब्रह्म से तादात्म्य का अमृतपान करने लगा।', 'और दूसरा था एक औरत के बारे में जो शिकायत कर रही थी क्योंकि तीन गाडियों से छः दढियल मर्द उतरे, उसे पकडा और वहीं पर पूछताछ शुरु कर दी ऐसे आदमी से बतियाने के लिये जो उसका रिश्तेदार न था।', 'सरकार ने जम्मू-कश्मीर को विशेष राज्य का दर्जा देने वाले अनुच्छेद 370 को रद्द करने की घोषणा की', 'कोई व्यक्ति कोई माहौल नहीं बना सकता.', 'यह परिदृश्य बदलने वाला होगा।', 'बाद में सुलह समझौता भी हो गया था।', 'हमारे मामले में पाकिस्तान ने इसे अपनी नीति का हिस्सा बना लिया है.', 'शून्य एक सम संख्या है।', 'ऐसे में अगर ई-चालान जमा न किया जाए तो क्या होगा?', 'लेकिन यदि हम गलती कर देते हैं तो फिर हमें अगले पांच वर्षों का इंतजार करना होता है।', 'नियमित कप्तान विराट कोहली और तेज गेंदबाजी के अगुआ जसप्रीत बुमराह की भी आस्ट्रेलिया के खिलाफ पूरी श्रृंखला के लिये वापसी हुई है और यहां तक कि उप कप्तान रोहित शर्मा को भी विश्राम नहीं दिया गया है।', 'व्हाइट हाउस के प्रेस सचिव जे कार्नी ने संवाददाताओं से कहा,', 'आपको बता दें कि दिलीप कुमार का बंगला बांद्रा के पाली हिल इलाके में स्थित है।', 'इससे किसान और उद्योग की बेहतर आय सुनिश्चित होगी।', \"' यह पूछने पर कि 'मन' का क्या मतलब है, एनडीबी के प्रमुख ने कहा, 'कर्ज लेने वाले का मन कह रहा होता है।\", 'पश्चिम बंगाल की मुख्यमंत्री ममता बनर्जी ने लोगों से शांति बनाये रखने और लोकतांत्रिक तरीके से प्रदर्शन करने की अपील की।', 'विदेशों से भी आ रहे खत', 'चलते हैं यहां', 'फिल्म फिलहाल निर्माण के अंतिम चरण में है।', 'आरोपी शख्स को नागपुर से गिरफ्तार किया गया है।', 'सिमंस को मैन ऑफ दि मैच और किरोन पोलार्ड को प्लेयर ऑफ द सीरीज चुना गया।', 'बॉलीवुड में रणवीर सिंह एक्टिंग के साथ-साथ अपने रंग-बिरंगे आउटफिट के लिए जाने जाते हैं.', 'कांग्रेस के दो बागी विधायकों--अल्पेश ठाकोर और उनके करीबी सहयोगी धवल सिंह झाला ने भाजपा के पक्ष में मतदान किया।', 'जीवन के नर और मादा प्रकारों के प्रजनन के अंग।', 'चुने जाने पर ट्रेनिंग पीरियड के दौरान 14,600 रुपए प्रति महीने मिलेंगे।', 'तेज गेंदबाज मोहम्मद शमी बुधवार को न्यूजीलैंड के खिलाफ पहले एक दिवसीय क्रिकेट मैच के दौरान इस प्रारूप में सबसे तेज 100 विकेट लेने वाले भारतीय गेंदबाज बन गए।', 'एक खास तरीका है, प्रचार काम में अगुवाई लेनेवाले भाइयों पर भरोसा दिखाकर ।', '\"जनरल नरवणे काठमांडू दरबार स्क्वायर में कुमारी घर गए और देवी \"\"कुमारी\"\" की पूजा की।\"', 'तो फिर इतना विवाद क्यों')]\n",
            "[('virat kohli raises his bat after remaining unbeaten on 157.', 'in delhi, petrol was priced at rs 69.75 per litre while it was rs 72.45 per litre in chennai.', 'besides, the physically challenged member can seek advance for purchasing equipment to deal with handicap under para 68-n.', 'we didnt have lot of water to drink in the summer.', 'since then,the accused had been harassing her.', 'similarly, section 255 is in pari materia with article 234 of the constitution.', 'o my fellow inmates, are diverse lords better, or god, the one, the supreme?', 'opponents are always trying to get you out, trying to outsmart you and you need to stay ahead of them.', 'his family members have been informed about his death.', 'similar communications may be addressed by the central government to the states (where there are no laws governing the conversion) to give effect to the recommendations set out supra.', 'further decisions will be taken depending on how the situation develops.', 'meanwhile, akshay kumar will essay the role of ats chief veer sooryavanshi.', \"chapungu's wings, along with the crane, rose to declare the fall of cecil john rhodes.\", 'prime minister narendra modi also expressed grief over the deaths.', 'she lived alone in the house.', 'unfortunately, it is your son, he said.', 'the results of class 12 examination will be declared from the board office at 10 am, the official mentioned.', 'the board of control for cricket in india (bcci) is set to honour former india womens cricket captain diana edulji with the ck nayudu lifetime achievement award.', 'delhi govt. has failed to control air pollution in national capital, says bjp', 'we asked him if he would send his daughters as well as his sons.', 'prime minister congratulated the state governments of karnataka and andhra pradesh for progress made in timely completion of the project related to strengthening of transmission system beyond vemagiri.', 'the reset must be executed as quickly as possible.', 'i feel, it is difficult to pull off a role like that if you cannot play cricket.', \"to understand the significance of bharatendu 's contribution to hindi, it would be better to know the pace of the development of hindi before his appearance on the literary scene.\", 'mumbai: supporting the farmers agitation, nationalist congress party (ncp) president, sharad pawar asked them to continue the stir till their demands were met.', \"there has been more than one attack on india 's independence.\", 'important instructions for candidates', \"it was her parents' dream to see their daughter become a doctor.\", 'indian cricket captain virat kohli with his wife and bollywood actor anushka sharma.', 'following sub-clause (ba) shall be inserted after sub-clause (b) of clause (i) of explanation 1 to clause (42a) of section 2 by the finance act, 2018, w.e.f. 1-4-2019 :'), ('विराट कोहली ने नाबाद रहते हुए 157 रन बनाए।', 'इंडियन आयल की वेबसाइट के अनुसार, देश की राजधानी दिल्ली में पेट्रोल 72.95 रुपये प्रति लीटर, वहीं डीजल 66.46 रुपये प्रति लीटर बिक रहा है, मंगलवार के मुकाबले कीमतों में कोई बदलाव नहीं हुआ है।', 'इसी प्रकार, शारीरिक रूप से अपंग सदस्य उपबंध 68-एन के तहत जरूरी उपकरण खरीदने के लिये पैसा निकाल सकते हैं।', 'गर्मियों में पीने के लिए बहुत पानी नहीं था।', 'उसके बाद से आरोपी उससे रंजिश रखने लगे।', 'इसी प्रकार, धारा 235, संविधान के अनुच्छेद 234 के समविषयक है।', 'ऐ कारागर के मेरे साथियों! क्या अलग-अलग बहुत-से रह अच्छे है या अकेला अल्लाह जिसका प्रभुत्व सबपर है?', 'विरोधी हमेशा आपको आउट करने और आपको कमजोर करने की कोशिश करते हैं और आपको उनसे आगे रहना चाहिए.', 'उनके निधन की पुष्टि उनके परिवार के सदस्यों ने की है.', 'इसी प्रकार की संसूचना उपरोक्त उपवर्णित सिफारिशों को प्रभावी बनाने के लिए राज्यों (जहां संपरिवर्तन को साबित करने वाली कोई विधि नहीं है) केन्द्रीय सरकार द्वारा राज्यों को भेजी जा सकती है ।', 'परिस्थितियों के अनुसार आगे भी निर्णय लिया जाएगा।', 'इस फिल्म में अक्षय कुमार एटीएस चीफ वीर सूर्यवंशी के रोल में नजर आएंगे।', 'चुपुंगु के पन्ख् और यन्त्र उठे सिस्ल जौन रोडस के गिरने को घोषित करने के लिये', 'प्रधानमंत्री नरेंद्र मोदी ने भी कदाकिन के मौत पर दुख जताया है।', 'मकान में वह अकेला रहता था।', 'यूनान में वापसी', 'कक्षा 12वीं के परिणाम बोर्ड कार्यालय की तरफ से सुबह 10 बजे घोषित किए जाएंगे.', 'नई दिल्ली। भारतीय क्रिकेट कंट्रोल बोर्ड पूर्व महिला क्रिकेटर और प्रशासकों की समिति की सदस्य डायना इडुलजी को सीके नायडु लाइफटाइम अचीवमेंट पुरस्कार से सम्मानित करेगा।', 'भाजपा ने कहा कि दिल्ली सरकार राजधानी में वायु प्रदूषण को नियंत्रित करने में विफल रही है', 'हमने उससे पूछा कि क्या वो अपनी बेटियों को भी बेटों के साथ पढने भेजेगा।', 'रधानमंत्री ने कर्नाटक और आंध्र प्रदेश की राज्य सरकारों को वेमागिरी ट्रांसमिशन सिस्टम को समय पर पूरा करने पर बधाई दी।', 'जिस कारण मरम्मत आदि का कार्य होता रहता है।', 'मुझे लगता है, अगर आप क्रिकेट नहीं खेल सकते हैं तो इस तरह की भूमिका करना मुश्किल है।', 'हिन्दी के प्रति भारतेन्दु के योगदान का महत्व समझने के लिए यह आवश्यक है कि साहित्य में उनके आगमन के पहले की हिन्दी की विकास-गति को समझ लिया जाय।', 'मुंबई: राष्ट्रवादी कांग्रेस पार्टी (राकांपा) के प्रमुख शरद पवार ने आंदोलनरत किसानों को समर्थन देते हुए कहा कि मांगे पूरी होने तक वह अपना आंदोलन जारी रखें.', 'भारत की आजादी पर एकाधिकार बार आक्रमण हो चुका है।', 'उम्मीदवारों के लिए जरूरी निर्देश', 'उनके पैरंट्स का सपना था कि वह डॉक्टर बनें।', 'भारतीय क्रिकेट टीम के कैप्टन विराट कोहली की पत्नी और बॉलीवुड एक्ट्रेस अनुष्का शर्मा भी तीनों खान के साथ काम कर चुकी हैं।', 'वित्त अधिनियम, 2018 द्वारा 1.4.2019 से धारा 2 के खंड (42क) में स्पष्टीकरण 1 के उपखंड (ख) के पश्चात् उपखंड (खक) अंत:स्थापित किया जाएगा:')]\n"
          ]
        }
      ],
      "source": [
        "for batch_num, batch in enumerate(iterator):\n",
        "    print(batch)\n",
        "    if batch_num > 3:\n",
        "        break"
      ]
    },
    {
      "cell_type": "code",
      "execution_count": 68,
      "metadata": {
        "id": "fSE6zS86g7at"
      },
      "outputs": [],
      "source": [
        "from torch import nn\n",
        "\n",
        "criterian = nn.CrossEntropyLoss(ignore_index=Hindi_to_index[PADDING_TOKEN],\n",
        "                                reduction='none')\n",
        "\n",
        "for params in transformer.parameters():\n",
        "    if params.dim() > 1:\n",
        "        nn.init.xavier_uniform_(params)\n",
        "\n",
        "optim = torch.optim.Adam(transformer.parameters(), lr=1e-4)\n",
        "device = torch.device('cuda') if torch.cuda.is_available() else torch.device('cpu')"
      ]
    },
    {
      "cell_type": "code",
      "execution_count": 69,
      "metadata": {
        "id": "wPDmjV80g-Sx"
      },
      "outputs": [],
      "source": [
        "NEG_INFTY = -1e9\n",
        "\n",
        "def create_masks(eng_batch, hi_batch):\n",
        "    num_sentences = len(eng_batch)\n",
        "    look_ahead_mask = torch.full([max_sequence_length, max_sequence_length] , True)\n",
        "    look_ahead_mask = torch.triu(look_ahead_mask, diagonal=1)\n",
        "    encoder_padding_mask = torch.full([num_sentences, max_sequence_length, max_sequence_length] , False)\n",
        "    decoder_padding_mask_self_attention = torch.full([num_sentences, max_sequence_length, max_sequence_length] , False)\n",
        "    decoder_padding_mask_cross_attention = torch.full([num_sentences, max_sequence_length, max_sequence_length] , False)\n",
        "\n",
        "    for idx in range(num_sentences):\n",
        "      eng_sentence_length, hi_sentence_length = len(eng_batch[idx]), len(hi_batch[idx])\n",
        "      eng_chars_to_padding_mask = np.arange(eng_sentence_length + 1, max_sequence_length)\n",
        "      hi_chars_to_padding_mask = np.arange(hi_sentence_length + 1, max_sequence_length)\n",
        "      encoder_padding_mask[idx, :, eng_chars_to_padding_mask] = True\n",
        "      encoder_padding_mask[idx, eng_chars_to_padding_mask, :] = True\n",
        "      decoder_padding_mask_self_attention[idx, :, hi_chars_to_padding_mask] = True\n",
        "      decoder_padding_mask_self_attention[idx, hi_chars_to_padding_mask, :] = True\n",
        "      decoder_padding_mask_cross_attention[idx, :, eng_chars_to_padding_mask] = True\n",
        "      decoder_padding_mask_cross_attention[idx, hi_chars_to_padding_mask, :] = True\n",
        "\n",
        "    encoder_self_attention_mask = torch.where(encoder_padding_mask, NEG_INFTY, 0)\n",
        "    decoder_self_attention_mask =  torch.where(look_ahead_mask + decoder_padding_mask_self_attention, NEG_INFTY, 0)\n",
        "    decoder_cross_attention_mask = torch.where(decoder_padding_mask_cross_attention, NEG_INFTY, 0)\n",
        "    return encoder_self_attention_mask, decoder_self_attention_mask, decoder_cross_attention_mask"
      ]
    },
    {
      "cell_type": "code",
      "execution_count": 84,
      "metadata": {
        "id": "ppaHScpfhDb9"
      },
      "outputs": [],
      "source": [
        "transformer.train()\n",
        "transformer.to(device)\n",
        "total_loss = 0\n",
        "num_epochs = 12\n",
        "train_losses=[]\n",
        "\n",
        "for epoch in range(num_epochs):\n",
        "    print(f\"Epoch {epoch}\")\n",
        "    iterator = iter(train_loader)\n",
        "    for batch_num, batch in enumerate(iterator):\n",
        "        transformer.train()\n",
        "        eng_batch, hi_batch = batch\n",
        "        encoder_self_attention_mask, decoder_self_attention_mask, decoder_cross_attention_mask = create_masks(eng_batch, hi_batch)\n",
        "        optim.zero_grad()\n",
        "        hi_predictions = transformer(eng_batch,\n",
        "                                     hi_batch,\n",
        "                                     encoder_self_attention_mask.to(device),\n",
        "                                     decoder_self_attention_mask.to(device),\n",
        "                                     decoder_cross_attention_mask.to(device),\n",
        "                                     enc_start_token=False,\n",
        "                                     enc_end_token=False,\n",
        "                                     dec_start_token=True,\n",
        "                                     dec_end_token=True)\n",
        "        labels = transformer.decoder.sentence_embedding.batch_tokenize(hi_batch, start_token=False, end_token=True)\n",
        "        loss = criterian(\n",
        "            hi_predictions.view(-1, hi_vocab_size).to(device),\n",
        "            labels.view(-1).to(device)\n",
        "        ).to(device)\n",
        "        valid_indicies = torch.where(labels.view(-1) == Hindi_to_index[PADDING_TOKEN], False, True)\n",
        "        loss = loss.sum() / valid_indicies.sum()\n",
        "        loss.backward()\n",
        "        optim.step()\n",
        "        train_losses.append(loss.item())\n",
        "        if batch_num % 100 == 0:\n",
        "            print(f\"Iteration {batch_num} : Loss {loss.item()}\")\n",
        "\n"
      ]
    },
    {
      "cell_type": "code",
      "execution_count": 96,
      "metadata": {
        "colab": {
          "base_uri": "https://localhost:8080/",
          "height": 564
        },
        "id": "mle5eN9-iyaS",
        "outputId": "8c57369f-3e86-4d1b-c76a-fbb65fff4c0e"
      },
      "outputs": [
        {
          "data": {
            "image/png": "[encoded data removed]",
            "text/plain": [
              "<Figure size 1000x600 with 1 Axes>"
            ]
          },
          "metadata": {},
          "output_type": "display_data"
        }
      ],
      "source": [
        "import matplotlib.pyplot as plt\n",
        "\n",
        "# Plot the loss vs. epoch\n",
        "plt.figure(figsize=(10, 6))\n",
        "plt.plot(train_losses, label='Training Loss')\n",
        "plt.title('Loss vs. Epoch')\n",
        "plt.xlabel('Epoch')\n",
        "plt.ylabel('Loss')\n",
        "plt.xticks(epochs)\n",
        "plt.show()\n"
      ]
    },
    {
      "cell_type": "code",
      "execution_count": 72,
      "metadata": {
        "id": "ahCE_vRFhG1b"
      },
      "outputs": [],
      "source": [
        "# @title\n",
        "transformer.eval()\n",
        "def translate(eng_sentence):\n",
        "  eng_sentence = (eng_sentence,)\n",
        "  hi_sentence = (\"\",)\n",
        "  for word_counter in range(max_sequence_length):\n",
        "    encoder_self_attention_mask, decoder_self_attention_mask, decoder_cross_attention_mask= create_masks(eng_sentence, hi_sentence)\n",
        "    predictions = transformer(eng_sentence,\n",
        "                              hi_sentence,\n",
        "                              encoder_self_attention_mask.to(device),\n",
        "                              decoder_self_attention_mask.to(device),\n",
        "                              decoder_cross_attention_mask.to(device),\n",
        "                              enc_start_token=False,\n",
        "                              enc_end_token=False,\n",
        "                              dec_start_token=True,\n",
        "                              dec_end_token=False)\n",
        "    next_token_prob_distribution = predictions[0][word_counter]\n",
        "    next_token_index = torch.argmax(next_token_prob_distribution).item()\n",
        "    next_token = index_to_Hindi[next_token_index]\n",
        "    hi_sentence = (hi_sentence[0] + next_token, )\n",
        "    if next_token == END_TOKEN:\n",
        "      break\n",
        "  return hi_sentence[0]"
      ]
    },
    {
      "cell_type": "code",
      "execution_count": null,
      "metadata": {
        "id": "7zM6-kBF4VpB"
      },
      "outputs": [],
      "source": []
    },
    {
      "cell_type": "code",
      "execution_count": 98,
      "metadata": {
        "colab": {
          "base_uri": "https://localhost:8080/"
        },
        "id": "cABF8lcEheXt",
        "outputId": "3d566c4a-86e3-4085-f3e7-e0cf976e51de"
      },
      "outputs": [
        {
          "name": "stdout",
          "output_type": "stream",
          "text": [
            "दिन शुरु पर हम क्या करन चाहिए?\n"
          ]
        }
      ],
      "source": [
        "translation = translate(\"what should we do when the day starts?\")\n",
        "print(translation)\n"
      ]
    },
    {
      "cell_type": "code",
      "execution_count": 99,
      "metadata": {
        "colab": {
          "base_uri": "https://localhost:8080/"
        },
        "id": "jXgWOsUFhhJC",
        "outputId": "784ac6cb-94d4-488e-a1d1-320450ceb6c3"
      },
      "outputs": [
        {
          "name": "stdout",
          "output_type": "stream",
          "text": [
            "यह सच है कैसे?\n"
          ]
        }
      ],
      "source": [
        "translation = translate(\"how is this the truth?\")\n",
        "print(translation)\n"
      ]
    },
    {
      "cell_type": "code",
      "execution_count": 100,
      "metadata": {
        "colab": {
          "base_uri": "https://localhost:8080/"
        },
        "id": "8voacmIJlj2H",
        "outputId": "ab5c21c6-602e-4633-cd28-774061183a3e"
      },
      "outputs": [
        {
          "name": "stdout",
          "output_type": "stream",
          "text": [
            "मैं यह गंध सहन नहीं होती।\n"
          ]
        }
      ],
      "source": [
        "translation = translate(\"i cannot stand this smell\")\n",
        "print(translation)\n"
      ]
    },
    {
      "cell_type": "code",
      "execution_count": 101,
      "metadata": {
        "colab": {
          "base_uri": "https://localhost:8080/"
        },
        "id": "W9ApCbNUlmDJ",
        "outputId": "5d38f416-7da9-4140-82d2-11b1121c7783"
      },
      "outputs": [
        {
          "name": "stdout",
          "output_type": "stream",
          "text": [
            "क्लिक करें।\n"
          ]
        }
      ],
      "source": [
        "translation = translate(\"click this\")\n",
        "print(translation)"
      ]
    },
    {
      "cell_type": "code",
      "execution_count": 102,
      "metadata": {
        "colab": {
          "base_uri": "https://localhost:8080/"
        },
        "id": "YFyeX4yFlpKk",
        "outputId": "1fda92b4-bbb9-4747-a9c7-5bc0c215dfe3"
      },
      "outputs": [
        {
          "name": "stdout",
          "output_type": "stream",
          "text": [
            "मैं इसी जगह हूँ।\n"
          ]
        }
      ],
      "source": [
        "translation = translate(\"I am right here\")\n",
        "print(translation)\n"
      ]
    },
    {
      "cell_type": "code",
      "execution_count": 102,
      "metadata": {
        "id": "pWDqR1ZQlsGf"
      },
      "outputs": [],
      "source": []
    }
  ],
  "metadata": {
    "accelerator": "GPU",
    "colab": {
      "gpuType": "T4",
      "provenance": []
    },
    "kernelspec": {
      "display_name": "Python 3",
      "name": "python3"
    },
    "language_info": {
      "name": "python",
      "version": "3.12.3"
    }
  },
  "nbformat": 4,
  "nbformat_minor": 0
}
